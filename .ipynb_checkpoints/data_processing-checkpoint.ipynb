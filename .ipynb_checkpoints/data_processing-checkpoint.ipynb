{
 "cells": [
  {
   "cell_type": "code",
   "execution_count": 1,
   "metadata": {},
   "outputs": [],
   "source": [
    "#Make tool where enter in data of date and solar output and it will give predictions on future output. for next x days. \n",
    "#Get time of year, age of solar panels as featueres, etc. enter those in and will give E[output] form extrapolation\n",
    "#Remove 2011\n",
    "import pandas as pd\n",
    "import numpy as np\n",
    "import matplotlib.pyplot as plt\n",
    "from datetime import datetime"
   ]
  },
  {
   "cell_type": "code",
   "execution_count": 2,
   "metadata": {},
   "outputs": [],
   "source": [
    "electricity_ng = pd.read_csv('Dataset/PV_Elec_Gas2.csv').rename(columns={'Unnamed: 0': 'Date'})\n",
    "solar_output = pd.read_csv('Dataset/solarpower_cumuldaybyday2.csv').drop(columns='Unnamed: 2')\n"
   ]
  },
  {
   "cell_type": "code",
   "execution_count": 4,
   "metadata": {},
   "outputs": [
    {
     "name": "stderr",
     "output_type": "stream",
     "text": [
      "/usr/local/lib/python3.7/site-packages/ipykernel_launcher.py:22: SettingWithCopyWarning: \n",
      "A value is trying to be set on a copy of a slice from a DataFrame.\n",
      "Try using .loc[row_indexer,col_indexer] = value instead\n",
      "\n",
      "See the caveats in the documentation: https://pandas.pydata.org/pandas-docs/stable/user_guide/indexing.html#returning-a-view-versus-a-copy\n",
      "/usr/local/lib/python3.7/site-packages/ipykernel_launcher.py:23: SettingWithCopyWarning: \n",
      "A value is trying to be set on a copy of a slice from a DataFrame.\n",
      "Try using .loc[row_indexer,col_indexer] = value instead\n",
      "\n",
      "See the caveats in the documentation: https://pandas.pydata.org/pandas-docs/stable/user_guide/indexing.html#returning-a-view-versus-a-copy\n"
     ]
    }
   ],
   "source": [
    "def get_month(x):\n",
    "    date = datetime.strptime(x, \"%Y-%m-%d\")\n",
    "    month = date.month\n",
    "    return month\n",
    "def get_yr(x):\n",
    "    date = datetime.strptime(x, \"%Y-%m-%d\")\n",
    "    year = date.year\n",
    "    return year\n",
    "\n",
    "def days_change(x,y):\n",
    "    date_1 = datetime.strptime(x, \"%Y-%m-%d\")\n",
    "    date_2 = datetime.strptime(y, \"%Y-%m-%d\")\n",
    "    chng = (date_2 - date_1).days\n",
    "    return chng\n",
    "\n",
    "electricity_ng['month'] = electricity_ng['Date'].apply(get_month)\n",
    "electricity_ng['year'] = electricity_ng['Date'].apply(get_yr)\n",
    "electricity_ng['yesterday_power'] = electricity_ng['cum_power'].shift(1)\n",
    "electricity_ng['yesterday'] = electricity_ng['Date'].shift(1)\n",
    "electricity_ng = electricity_ng.dropna()\n",
    "electricity_ng\n",
    "electricity_ng['days'] = electricity_ng.apply(lambda x: days_change(x['yesterday'], x['Date']),axis=1)\n",
    "electricity_ng['output/day'] = (electricity_ng['cum_power'] - electricity_ng['yesterday_power'])/electricity_ng['days']\n",
    "electricity_ng\n",
    "analyze = electricity_ng[['year', 'month','output/day']]\n",
    "# electricity_ng"
   ]
  },
  {
   "cell_type": "code",
   "execution_count": null,
   "metadata": {},
   "outputs": [],
   "source": [
    "\n"
   ]
  },
  {
   "cell_type": "code",
   "execution_count": 7,
   "metadata": {},
   "outputs": [
    {
     "data": {
      "text/plain": [
       "[<matplotlib.lines.Line2D at 0x1166f48d0>]"
      ]
     },
     "execution_count": 7,
     "metadata": {},
     "output_type": "execute_result"
    },
    {
     "data": {
      "image/png": "[encoded data removed]",
      "text/plain": [
       "<Figure size 432x288 with 1 Axes>"
      ]
     },
     "metadata": {
      "needs_background": "light"
     },
     "output_type": "display_data"
    }
   ],
   "source": [
    "#See if can predict future output using \n",
    "#Tool where anyone can enter in date and cumulitive or non cumulative output and it can forecast. \n",
    "#Degredation per year + time of year essentially change month over month. \n",
    "#Do change year over year and get those two to be together to make prediction when enter year and month. \n",
    "\n",
    "\n",
    "month_over_month = analyze[['month','output/day']].groupby(['month']).agg(['mean', 'std']).reset_index()\n",
    "year_over_year = analyze[['year','output/day']].groupby(['year']).agg(['mean', 'std']).reset_index()\n",
    "\n",
    "x = year_over_year['year']\n",
    "y = year_over_year['output/day', 'mean']\n",
    "plt.plot(x,y)"
   ]
  },
  {
   "cell_type": "code",
   "execution_count": null,
   "metadata": {},
   "outputs": [],
   "source": [
    "\n"
   ]
  },
  {
   "cell_type": "code",
   "execution_count": null,
   "metadata": {},
   "outputs": [],
   "source": []
  },
  {
   "cell_type": "code",
   "execution_count": null,
   "metadata": {},
   "outputs": [],
   "source": []
  }
 ],
 "metadata": {
  "kernelspec": {
   "display_name": "Python 3",
   "language": "python",
   "name": "python3"
  },
  "language_info": {
   "codemirror_mode": {
    "name": "ipython",
    "version": 3
   },
   "file_extension": ".py",
   "mimetype": "text/x-python",
   "name": "python",
   "nbconvert_exporter": "python",
   "pygments_lexer": "ipython3",
   "version": "3.7.5"
  }
 },
 "nbformat": 4,
 "nbformat_minor": 2
}
