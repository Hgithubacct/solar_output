{
 "cells": [
  {
   "cell_type": "code",
   "execution_count": 1,
   "metadata": {},
   "outputs": [],
   "source": [
    "#Make tool where enter in data of date and solar output and it will give predictions on future output. for next x days. \n",
    "#Get time of year, age of solar panels as featueres, etc. enter those in and will give E[output] form extrapolation\n",
    "#Remove 2011\n",
    "import pandas as pd\n",
    "import numpy as np\n",
    "import matplotlib.pyplot as plt\n",
    "from datetime import datetime"
   ]
  },
  {
   "cell_type": "code",
   "execution_count": 2,
   "metadata": {},
   "outputs": [],
   "source": [
    "electricity_ng = pd.read_csv('Dataset/PV_Elec_Gas2.csv').rename(columns={'Unnamed: 0': 'Date'})\n",
    "solar_output = pd.read_csv('Dataset/solarpower_cumuldaybyday2.csv').drop(columns='Unnamed: 2')\n"
   ]
  },
  {
   "cell_type": "code",
   "execution_count": 3,
   "metadata": {},
   "outputs": [],
   "source": [
    "def get_month(x):\n",
    "    date = datetime.strptime(x, \"%Y-%m-%d\")\n",
    "    month = date.month\n",
    "    return month\n",
    "def get_yr(x):\n",
    "    date = datetime.strptime(x, \"%Y-%m-%d\")\n",
    "    year = date.year\n",
    "    return year\n",
    "def get_day(x):\n",
    "    date = datetime.strptime(x, \"%Y-%m-%d\")\n",
    "    day = date.day\n",
    "    return day\n",
    "\n",
    "def days_change(x,y):\n",
    "    date_1 = datetime.strptime(x, \"%Y-%m-%d\")\n",
    "    date_2 = datetime.strptime(y, \"%Y-%m-%d\")\n",
    "    chng = (date_2 - date_1).days\n",
    "    return chng\n",
    "\n",
    "electricity_ng['month'] = electricity_ng['Date'].apply(get_month)\n",
    "electricity_ng['year'] = electricity_ng['Date'].apply(get_yr)\n",
    "electricity_ng['yesterday_power'] = electricity_ng['cum_power'].shift(1)\n",
    "electricity_ng['yesterday'] = electricity_ng['Date'].shift(1)\n",
    "electricity_ng = electricity_ng.dropna()\n",
    "electricity_ng\n",
    "electricity_ng['days'] = electricity_ng.apply(lambda x: days_change(x['yesterday'], x['Date']),axis=1)\n",
    "electricity_ng['output/day'] = (electricity_ng['cum_power'] - electricity_ng['yesterday_power'])/electricity_ng['days']\n",
    "electricity_ng['day_of_month'] = electricity_ng['Date'].apply(get_day)\n",
    "\n",
    "\n",
    "\n",
    "analyze = electricity_ng[['Date','year', 'month', 'day_of_month', 'output/day']]\n",
    "\n",
    "\n"
   ]
  },
  {
   "cell_type": "code",
   "execution_count": null,
   "metadata": {},
   "outputs": [],
   "source": []
  },
  {
   "cell_type": "code",
   "execution_count": null,
   "metadata": {},
   "outputs": [],
   "source": []
  },
  {
   "cell_type": "code",
   "execution_count": 4,
   "metadata": {},
   "outputs": [],
   "source": [
    "def mv_avg(df):\n",
    "    mvg_avg_lst = [2,5,7,10,15,30]\n",
    "    for i in mvg_avg_lst:\n",
    "        column_name = 'mv_avg_' + str(i)\n",
    "        df[column_name] = df.iloc[:,4].rolling(window=i).mean()\n",
    "    return df\n",
    "\n",
    "\n"
   ]
  },
  {
   "cell_type": "code",
   "execution_count": 5,
   "metadata": {},
   "outputs": [],
   "source": [
    "#Get moving average this time last year and 1 year before for each date\n",
    "def year_over_yr(data):\n",
    "    yr = 2011\n",
    "    yrs = {}\n",
    "    for i in range(0, (max(data['year']) - yr) + 1):\n",
    "        frame_name = 'year' + str(yr) + 'data' \n",
    "        yrs[frame_name] = data[data['year']==yr]\n",
    "        yr +=1\n",
    "\n",
    "\n",
    "    #Get_last year\n",
    "    data_set = {}\n",
    "    for item in [2013,2014,2015,2016,2017,2018,2019]:\n",
    "        last_yr = item-1\n",
    "        lst_yr = 'year' + str(last_yr) + 'data' \n",
    "        this_yr = 'year' + str(item) + 'data' \n",
    "\n",
    "        data_last_year = yrs[lst_yr]\n",
    "        for column in data_last_year.columns:\n",
    "            if 'mv_avg' in column:\n",
    "                data_last_year = data_last_year.rename(columns={column: 'lst_yr_' + str(column)})\n",
    "\n",
    "        data_this_year = yrs[this_yr]\n",
    "        iter_frame = pd.DataFrame()\n",
    "        data_last_year = data_last_year.drop(columns=['Date', 'year', 'output/day'])\n",
    "        data_this_year =  data_this_year.drop(columns=['Date', 'year'])\n",
    "        data_this_year = data_this_year.rename(columns={'output/day': 'target'})\n",
    "        iter_frame = pd.merge(data_this_year,data_last_year, on =['month', 'day_of_month'], how='left')\n",
    "\n",
    "        iter_frame.insert(0, 'year', item)\n",
    "        #display(iter_frame.head(5))\n",
    "\n",
    "        data_set[item] = iter_frame\n",
    "    final_frame = pd.DataFrame()\n",
    "    i = 0\n",
    "    for item in data_set.keys():\n",
    "        if i == 0:\n",
    "            final_frame = data_set[item]\n",
    "            i+=1\n",
    "            next\n",
    "        final_frame = final_frame.append(data_set[item])\n",
    "\n",
    "    final_frame = final_frame.sort_values(by=['year', 'month', 'day_of_month'], ascending=True)\n",
    "    return final_frame\n"
   ]
  },
  {
   "cell_type": "code",
   "execution_count": 6,
   "metadata": {},
   "outputs": [],
   "source": [
    "def day_dums(data):\n",
    "\n",
    "    data = data[data['year']> 2012]\n",
    "    day = [0,5,10,15,20,25,33]\n",
    "    day_buckets = pd.DataFrame()\n",
    "    for j in range(0,len(day)):\n",
    "        start = day[j]\n",
    "        if j != len(day)-1:\n",
    "            end = day[j+1]\n",
    "        else:\n",
    "            continue\n",
    "        c_n = 'day>=_' + str(start)+ '_day_<' + str(end)\n",
    "        day_buckets[c_n] = data.apply(lambda x: 1 if x['day_of_month'] >= start and x['day_of_month'] < end else 0,axis=1)\n",
    "    day_buckets\n",
    "    pd.set_option('display.max_rows',300)\n",
    "    dummies = day_buckets\n",
    "    merger_data = data[['year', 'month', 'day_of_month']]\n",
    "    month_dummies = pd.get_dummies(data[data['year']>2012]['month'])\n",
    "    Trans_frm = merger_data.join(month_dummies)\n",
    "    Trans_frm = Trans_frm.join(dummies)\n",
    "    \n",
    "    return Trans_frm\n",
    "\n"
   ]
  },
  {
   "cell_type": "code",
   "execution_count": 7,
   "metadata": {},
   "outputs": [
    {
     "name": "stderr",
     "output_type": "stream",
     "text": [
      "/usr/local/lib/python3.7/site-packages/ipykernel_launcher.py:5: SettingWithCopyWarning: \n",
      "A value is trying to be set on a copy of a slice from a DataFrame.\n",
      "Try using .loc[row_indexer,col_indexer] = value instead\n",
      "\n",
      "See the caveats in the documentation: https://pandas.pydata.org/pandas-docs/stable/user_guide/indexing.html#returning-a-view-versus-a-copy\n",
      "  \"\"\"\n"
     ]
    }
   ],
   "source": [
    "def pipeline(dataframe):\n",
    "    dummies = day_dums(dataframe)\n",
    "    T_1 = mv_avg(dataframe)\n",
    "    T_2 = year_over_yr(T_1)\n",
    "    T = pd.merge(dummies, T_2, on=['year', 'month', 'day_of_month'],how='outer')\n",
    "    return T\n",
    "pd.set_option(\"display.max_rows\",300)\n",
    "\n",
    "\n",
    "data = pipeline(analyze)\n",
    "train = data[data['year'] < 2019]\n",
    "train = train[(train['month']!=2) & (train['day_of_month']!= 29)]\n",
    "test = data[data['year']==2019]"
   ]
  },
  {
   "cell_type": "code",
   "execution_count": 8,
   "metadata": {},
   "outputs": [
    {
     "data": {
      "text/plain": [
       "0.8721813042944531"
      ]
     },
     "execution_count": 8,
     "metadata": {},
     "output_type": "execute_result"
    }
   ],
   "source": [
    "from sklearn.linear_model import LinearRegression\n",
    "train = train.drop(columns=['year', 'month', 'day_of_month'])\n",
    "y = train.pop('target')\n",
    "\n",
    "x = train.values\n",
    "reg = LinearRegression().fit(x, y)\n",
    "reg.score(x, y)"
   ]
  },
  {
   "cell_type": "code",
   "execution_count": 9,
   "metadata": {},
   "outputs": [],
   "source": [
    "# test\n",
    "actual = test.pop('target')\n",
    "meta = test[['year', 'month', 'day_of_month']]\n",
    "test = test.drop(columns=['year', 'month', 'day_of_month'])\n",
    "\n",
    "pred = reg.predict(test.values)"
   ]
  },
  {
   "cell_type": "code",
   "execution_count": 11,
   "metadata": {},
   "outputs": [],
   "source": [
    "anal_ize = pd.DataFrame()\n",
    "anal_ize['actual'] = actual\n",
    "anal_ize['predicted'] = pred\n",
    "anal_ize['error'] = abs(anal_ize['actual'] -anal_ize['predicted'])\n",
    "anal_ize = meta.join(anal_ize)"
   ]
  },
  {
   "cell_type": "code",
   "execution_count": 17,
   "metadata": {},
   "outputs": [],
   "source": [
    "anal_ize.to_csv('predictions.csv')\n",
    "\n"
   ]
  },
  {
   "cell_type": "code",
   "execution_count": null,
   "metadata": {},
   "outputs": [],
   "source": []
  },
  {
   "cell_type": "code",
   "execution_count": null,
   "metadata": {},
   "outputs": [],
   "source": []
  },
  {
   "cell_type": "code",
   "execution_count": null,
   "metadata": {},
   "outputs": [],
   "source": []
  },
  {
   "cell_type": "code",
   "execution_count": null,
   "metadata": {},
   "outputs": [],
   "source": []
  },
  {
   "cell_type": "code",
   "execution_count": null,
   "metadata": {},
   "outputs": [],
   "source": []
  }
 ],
 "metadata": {
  "kernelspec": {
   "display_name": "Python 3",
   "language": "python",
   "name": "python3"
  },
  "language_info": {
   "codemirror_mode": {
    "name": "ipython",
    "version": 3
   },
   "file_extension": ".py",
   "mimetype": "text/x-python",
   "name": "python",
   "nbconvert_exporter": "python",
   "pygments_lexer": "ipython3",
   "version": "3.7.5"
  }
 },
 "nbformat": 4,
 "nbformat_minor": 2
}
